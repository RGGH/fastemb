{
 "cells": [
  {
   "cell_type": "markdown",
   "id": "4eb5b163-4923-4f0f-ad5c-6acb1988bd23",
   "metadata": {},
   "source": [
    "# Fastembed - Embed and Store Images with Labels in Qdrant"
   ]
  },
  {
   "cell_type": "code",
   "execution_count": 138,
   "id": "37c29a35-fb08-42cb-a9a9-0824b357f6fd",
   "metadata": {},
   "outputs": [
    {
     "name": "stdout",
     "output_type": "stream",
     "text": [
      "The autoreload extension is already loaded. To reload it, use:\n",
      "  %reload_ext autoreload\n"
     ]
    }
   ],
   "source": [
    "%load_ext autoreload\n",
    "%autoreload 2"
   ]
  },
  {
   "cell_type": "code",
   "execution_count": 139,
   "id": "b994605e-a0a5-4b7b-af94-0916b13650ff",
   "metadata": {},
   "outputs": [],
   "source": [
    "#!pip install qdrant-client fastembed"
   ]
  },
  {
   "cell_type": "code",
   "execution_count": 140,
   "id": "7c91d56e-f27e-45b4-a680-03a35b2202e9",
   "metadata": {},
   "outputs": [],
   "source": [
    "#!python3.12 -m ipykernel install --user --name python3.12 --display-name \"Python 3.12\"\n"
   ]
  },
  {
   "cell_type": "code",
   "execution_count": 141,
   "id": "22666516-ca95-45ad-95c3-e33079a84406",
   "metadata": {},
   "outputs": [],
   "source": [
    "#!python3.12 -m pip install ipykernel"
   ]
  },
  {
   "cell_type": "code",
   "execution_count": 142,
   "id": "cb18c763-b6d2-4621-9a32-15fc7426aeae",
   "metadata": {},
   "outputs": [
    {
     "name": "stdout",
     "output_type": "stream",
     "text": [
      "3.12.3 (main, Jun  3 2024, 12:49:48) [GCC 11.4.0]\n"
     ]
    }
   ],
   "source": [
    "import sys\n",
    "print(sys.version)"
   ]
  },
  {
   "cell_type": "code",
   "execution_count": 143,
   "id": "a0049959-3441-4bea-a8d5-e97ec8850d86",
   "metadata": {},
   "outputs": [
    {
     "name": "stdout",
     "output_type": "stream",
     "text": [
      "\u001b[01;34m.\u001b[0m\n",
      "├── \u001b[01;34menv\u001b[0m\n",
      "│   ├── \u001b[01;34mbin\u001b[0m\n",
      "│   ├── \u001b[01;34mlib\u001b[0m\n",
      "│   └── pyvenv.cfg\n",
      "├── Fast_Embed_Images.ipynb\n",
      "├── \u001b[01;34mfmb\u001b[0m\n",
      "│   ├── \u001b[01;34mbin\u001b[0m\n",
      "│   ├── \u001b[01;34mlib\u001b[0m\n",
      "│   └── pyvenv.cfg\n",
      "└── \u001b[01;34mimages_dataset\u001b[0m\n",
      "    ├── \u001b[01;34mhuman\u001b[0m\n",
      "    ├── \u001b[01;34mnot_human\u001b[0m\n",
      "    └── \u001b[01;34musers_image\u001b[0m\n",
      "\n",
      "10 directories, 3 files\n"
     ]
    }
   ],
   "source": [
    "!tree -L 2"
   ]
  },
  {
   "cell_type": "code",
   "execution_count": 144,
   "id": "01148b2d-5254-47fe-a509-74c8e9798181",
   "metadata": {},
   "outputs": [],
   "source": [
    "from qdrant_client import QdrantClient, models\n",
    "from fastembed import ImageEmbedding\n",
    "from qdrant_client.models import PointStruct, VectorParams, Distance\n",
    "import os\n",
    "from PIL import Image\n",
    "\n",
    "# Initialize the Qdrant client\n",
    "client = QdrantClient(\"http://localhost:6333\")"
   ]
  },
  {
   "cell_type": "code",
   "execution_count": 145,
   "id": "554df318-02b4-4c82-ac93-4718b6065928",
   "metadata": {},
   "outputs": [],
   "source": [
    "\n",
    "# Initialize lists to store image paths and labels\n",
    "image_paths = []\n",
    "labels = []\n",
    "\n",
    "# Directories for human and not human images\n",
    "root_dir = 'images_dataset'\n",
    "\n",
    "# Collect image paths and labels\n",
    "for label_dir in ['human', 'not_human']:\n",
    "    label_path = os.path.join(root_dir, label_dir)\n",
    "    for subdir, _, files in os.walk(label_path):\n",
    "        for file in files:\n",
    "            if file.lower().endswith(\".jpg\"):\n",
    "                image_paths.append(os.path.join(subdir, file))\n",
    "                labels.append(label_dir)"
   ]
  },
  {
   "cell_type": "code",
   "execution_count": 146,
   "id": "87ffad2f-5d40-493c-9636-77b9fdca86b2",
   "metadata": {},
   "outputs": [
    {
     "data": {
      "application/vnd.jupyter.widget-view+json": {
       "model_id": "943562a73fc649dc8e0a242c16df05d7",
       "version_major": 2,
       "version_minor": 0
      },
      "text/plain": [
       "Fetching 3 files:   0%|          | 0/3 [00:00<?, ?it/s]"
      ]
     },
     "metadata": {},
     "output_type": "display_data"
    }
   ],
   "source": [
    "# Initialize the ImageEmbedding model\n",
    "model = ImageEmbedding(model_name=\"Qdrant/clip-ViT-B-32-vision\")"
   ]
  },
  {
   "cell_type": "code",
   "execution_count": 147,
   "id": "4889cfe5-434f-4127-b467-2b6b995730da",
   "metadata": {},
   "outputs": [],
   "source": [
    "# Generate embeddings\n",
    "embeddings = list(model.embed(image_paths))"
   ]
  },
  {
   "cell_type": "markdown",
   "id": "9e22142b-61c7-4289-97a3-420cdfcd51e7",
   "metadata": {},
   "source": [
    "## Create Qdrant collection"
   ]
  },
  {
   "cell_type": "code",
   "execution_count": 148,
   "id": "0bcc7e9b-1aab-41bb-8687-681a207af823",
   "metadata": {},
   "outputs": [
    {
     "data": {
      "text/plain": [
       "True"
      ]
     },
     "execution_count": 148,
     "metadata": {},
     "output_type": "execute_result"
    }
   ],
   "source": [
    "# Create Qdrant collection\n",
    "collection_name = \"image_classification\"\n",
    "client.delete_collection(collection_name)\n",
    "client.create_collection(\n",
    "    collection_name=collection_name,\n",
    "    vectors_config=VectorParams(size=len(embeddings[0]), distance=Distance.COSINE)\n",
    ")\n"
   ]
  },
  {
   "cell_type": "markdown",
   "id": "c331d09d-656b-4f14-998e-0369952ab26d",
   "metadata": {},
   "source": [
    "## Insert points into Qdrant"
   ]
  },
  {
   "cell_type": "code",
   "execution_count": 149,
   "id": "f9181d0f-91da-447d-9127-12fa39ff11f7",
   "metadata": {},
   "outputs": [
    {
     "data": {
      "text/plain": [
       "UpdateResult(operation_id=0, status=<UpdateStatus.COMPLETED: 'completed'>)"
      ]
     },
     "execution_count": 149,
     "metadata": {},
     "output_type": "execute_result"
    }
   ],
   "source": [
    "# Insert points into Qdrant\n",
    "points = [\n",
    "    PointStruct(id=idx, vector=embedding, payload={\"path\": image_paths[idx], \"label\": labels[idx]})\n",
    "    for idx, embedding in enumerate(embeddings)\n",
    "]\n",
    "client.upsert(collection_name=collection_name, points=points)"
   ]
  },
  {
   "cell_type": "code",
   "execution_count": 1,
   "id": "fe8abcf5-da10-45d1-8de8-7535efac2768",
   "metadata": {},
   "outputs": [],
   "source": [
    "#points"
   ]
  },
  {
   "cell_type": "code",
   "execution_count": 2,
   "id": "6c7327ce-c8ba-45dc-9b4a-806d108b9d70",
   "metadata": {},
   "outputs": [
    {
     "data": {
      "application/vnd.jupyter.widget-view+json": {
       "model_id": "2d56d5433acb4d53a13b050b5c81a70a",
       "version_major": 2,
       "version_minor": 0
      },
      "text/plain": [
       "Fetching 3 files:   0%|          | 0/3 [00:00<?, ?it/s]"
      ]
     },
     "metadata": {},
     "output_type": "display_data"
    },
    {
     "name": "stdout",
     "output_type": "stream",
     "text": [
      "The new image is classified as: human\n"
     ]
    }
   ],
   "source": [
    "from qdrant_client import QdrantClient\n",
    "from qdrant_client.models import PointStruct, VectorParams, Distance\n",
    "from fastembed import ImageEmbedding\n",
    "import os\n",
    "from PIL import Image\n",
    "\n",
    "# Initialize the ImageEmbedding model\n",
    "model = ImageEmbedding(model_name=\"Qdrant/clip-ViT-B-32-vision\")\n",
    "\n",
    "# Initialize the Qdrant client\n",
    "client = QdrantClient(\"http://localhost:6333\")\n",
    "\n",
    "def classify_new_image(image_path):\n",
    "    # Embed the new image\n",
    "    new_image_embedding = list(model.embed([image_path]))[0]  # Convert generator to list and access the first item\n",
    "\n",
    "    # Search for the closest match in the Qdrant collection\n",
    "    collection_name = \"image_classification\"\n",
    "    search_result = client.search(\n",
    "        collection_name=collection_name,\n",
    "        query_vector=new_image_embedding,\n",
    "        limit=1  # We only need the closest result\n",
    "    )\n",
    "\n",
    "    # Extract the closest result\n",
    "    if search_result:\n",
    "        closest_result = search_result[0]\n",
    "        closest_id = closest_result.id\n",
    "        closest_label = closest_result.payload.get(\"label\", \"unknown\")\n",
    "\n",
    "        return closest_label\n",
    "    else:\n",
    "        return \"unknown\"\n",
    "\n",
    "# Example of using the classify_new_image function\n",
    "new_image_path = 'images_dataset/users_image/image27.jpg'\n",
    "label = classify_new_image(new_image_path)\n",
    "print(f\"The new image is classified as: {label}\")"
   ]
  },
  {
   "cell_type": "code",
   "execution_count": 3,
   "id": "1d3214f1-21af-4d02-907a-40cf4db29704",
   "metadata": {},
   "outputs": [
    {
     "data": {
      "image/jpeg": "[encoded data removed]",
      "image/png": "[encoded data removed]",
      "text/plain": [
       "<PIL.JpegImagePlugin.JpegImageFile image mode=RGB size=150x84>"
      ]
     },
     "metadata": {},
     "output_type": "display_data"
    },
    {
     "name": "stdout",
     "output_type": "stream",
     "text": [
      "The new image is classified as: human\n"
     ]
    }
   ],
   "source": [
    "from PIL import Image\n",
    "from IPython.display import display\n",
    "\n",
    "# Load the image\n",
    "new_image_path\n",
    "image = Image.open(new_image_path)\n",
    "\n",
    "# Optionally resize the image to create a thumbnail\n",
    "thumbnail_size = (150, 150)  # Set the size of the thumbnail\n",
    "image.thumbnail(thumbnail_size)\n",
    "\n",
    "# Display the image\n",
    "display(image)\n",
    "print(f\"The new image is classified as: {label}\")"
   ]
  },
  {
   "cell_type": "code",
   "execution_count": null,
   "id": "83b65eea-4716-45e5-860d-057b25f1206f",
   "metadata": {},
   "outputs": [],
   "source": []
  }
 ],
 "metadata": {
  "kernelspec": {
   "display_name": "Python 3.12",
   "language": "python",
   "name": "python3.12"
  },
  "language_info": {
   "codemirror_mode": {
    "name": "ipython",
    "version": 3
   },
   "file_extension": ".py",
   "mimetype": "text/x-python",
   "name": "python",
   "nbconvert_exporter": "python",
   "pygments_lexer": "ipython3",
   "version": "3.12.3"
  }
 },
 "nbformat": 4,
 "nbformat_minor": 5
}
